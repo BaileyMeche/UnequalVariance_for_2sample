{
  "cells": [
    {
      "cell_type": "markdown",
      "metadata": {
        "id": "nXhNUzZOGbKd"
      },
      "source": [
        "# Preliminaries"
      ]
    },
    {
      "cell_type": "code",
      "execution_count": null,
      "metadata": {
        "id": "Uqjw2uoJHKMV"
      },
      "outputs": [],
      "source": [
        "install.packages('openxlsx')\n",
        "library(openxlsx)\n",
        "\n",
        "library ( MASS )\n",
        "library(tidyverse)\n",
        "\n",
        "\n",
        "install.packages('Partiallyoverlapping')\n",
        "library(Partiallyoverlapping)\n",
        "\n",
        "install.packages('lme4')\n",
        "library(lme4)"
      ]
    },
    {
      "cell_type": "markdown",
      "metadata": {
        "id": "xlZeE8ssHWbI"
      },
      "source": [
        "# ---- Generate data\n"
      ]
    },
    {
      "cell_type": "code",
      "execution_count": null,
      "metadata": {
        "id": "tQU6p-XNHVoD"
      },
      "outputs": [],
      "source": [
        "data <- function (n , n1 , n2 , mu1 , mu2 , sigma_x,sigma_y, cor , diff ,\n",
        "              dist =c ( \" Normal \" ,\n",
        "              \" Symmetric ␣ heavy ␣ tailed \" ,\n",
        "              \" Skewed ␣ heavy ␣ tailed \" ,\n",
        "              \" Skewed ␣ light ␣ tailed \" ))\n",
        "{\n",
        "  mu <- c ( mu1 , mu2 )\n",
        "  # Correlation matrix\n",
        "  normCor <- matrix ( c (sigma_x^2 , cor*sigma_x*sigma_y , cor*sigma_x*sigma_y , sigma_y^2) , nrow = 2)\n",
        "\n",
        "  # Generate data from Normal distribution\n",
        "  data <- mvrnorm ( n = n+ n1 + n2 , mu = mu , Sigma = normCor )\n",
        "  if ( dist == \" Normal \" ){\n",
        "    data = data\n",
        "    } else ( print ( \" Specify ␣ distribution \" ))\n",
        "\n",
        "    # Delete missing data from variables\n",
        "    if (( n1 != 0) && ( n2 != 0)){\n",
        "    data [1: n2 ,1] <- NA\n",
        "    data [( n + n2 +1):( n + n1 + n2 ) ,2] <- NA\n",
        "\n",
        "    # Rename data to paired and unpaired\n",
        "    xp <- data [( n2 +1):( n + n2 ) ,1]\n",
        "    yp <- data [( n2 +1):( n + n2 ) ,2]\n",
        "    xu <- data [( n + n2 +1):( n + n1 + n2 ) ,1]\n",
        "    yu <- data [1: n2 ,2]\n",
        "    }\n",
        "    else {\n",
        "      xp <- data [ ,1]\n",
        "      yp <- data [ ,2]\n",
        "      xu <- NA\n",
        "      yu <- NA\n",
        "    }\n",
        "    # Sample correlation\n",
        "  r <- cor ( xp , yp ) #Pearson correlation\n",
        "  return ( list (\"xp\" = xp , \"yp\" = yp , \"xu\" =xu , \"yu\"= yu , \"r\"=r ,\n",
        "  \"n\" =n , \"n1\" =n1 , \"n2\" = n2 ))\n",
        "}\n"
      ]
    },
    {
      "cell_type": "code",
      "execution_count": null,
      "metadata": {
        "id": "XPmFlKCiIJQ3"
      },
      "outputs": [],
      "source": [
        "paired <- function ( x1 , x2 )\n",
        "  { n = length ( x1 )\n",
        "  y1 = numeric ( n )\n",
        "  y2 = numeric ( n )\n",
        "  for ( i in 1: n)\n",
        "  { u = runif (1)\n",
        "  if ((u -0.5) <=0) {\n",
        "    y1 [i ]= x1 [ i]\n",
        "    y2 [i ]= x2 [ i]\n",
        "  } else {\n",
        "    if (( u -0.5) >0) {\n",
        "      y1 [i ]= x2 [ i]\n",
        "      y2 [i ]= x1 [ i]\n",
        "  }\n",
        "  }\n",
        "  }\n",
        "  return ( list ( \"y1\" = y1 ,\"y2\" = y2 ))\n",
        "  }\n",
        "  unpaired <- function ( x1 , x2 )\n",
        "  {\n",
        "    m1 = length ( x1 )\n",
        "    m2 = length ( x2 )\n",
        "    c = c (x1 , x2 )\n",
        "    n = length ( c )\n",
        "    y = sample (c , replace = F )\n",
        "    y1 =y [1: m1 ]\n",
        "    y2 =y [( m1 +1): n ]\n",
        "  return ( list (\"y1\" = y1 , \"y2\" = y2 ))\n",
        "  }"
      ]
    },
    {
      "cell_type": "markdown",
      "metadata": {
        "id": "HOOlG3xlRCAG"
      },
      "source": [
        "# Statistics"
      ]
    },
    {
      "cell_type": "markdown",
      "metadata": {
        "id": "skDeMpiKoojB"
      },
      "source": [
        "## Bhoj"
      ]
    },
    {
      "cell_type": "code",
      "execution_count": null,
      "metadata": {
        "id": "6nwLOhKclCYh"
      },
      "outputs": [],
      "source": [
        "Bhoj_Zb <- function(xp,xu,yp,yu,n,n1,n2){\n",
        " xbar1 <- mean ( xp )\n",
        "    xbar2 <- mean ( xu )\n",
        "    ybar1 <- mean ( yp )\n",
        "    ybar2 <- mean ( yu )\n",
        "\n",
        "    a11 <- sum (( xp - xbar1 )^2)\n",
        "    a22 <- sum (( yp - ybar1 )^2)\n",
        "    a12 <- sum (( xp - xbar1 ) * ( yp - ybar1 ))\n",
        "    b1 <- sum (( xu - xbar2 )^2)\n",
        "    b2 <- sum (( yu - ybar2 )^2)\n",
        "\n",
        "    u <- (2 * a12 ) / ( a11 + a22 )\n",
        "    w <- ( n1 * ( n +((1+ u )* n2 ))) / (( n * ( n1 + n2 ))+(2 * (1+ u ) * n1 * n2 ))\n",
        "\n",
        "    s <- (1+ u ) /2\n",
        "    f1 <- n -1\n",
        "    f2 <- n1 + n2 -2\n",
        "    f3 <- n + n1 + n2 -3\n",
        "    d2 <- 2 * xbar2 - xbar1 - ybar1\n",
        "    d3 <- xbar1 + ybar1 -2 * ybar2\n",
        "    d <- w * d2 + (1 - w ) * d3\n",
        "\n",
        "    t1 <- (( xbar1 - ybar1 ) * sqrt ( n )) /sqrt (( a11 + a22 -2 * a12 ) / (n -1))\n",
        "    t3 <- d / sqrt (((4 *s * ( b1 + b2 )+ a11 + a22 +2 * a12 ) /( n + n1 + n2 -3)) * (( w ^2 / (s * n1) )+(((1 - w )^2) /(s * n2) )+(((1 -2 * w )^2) /n ))) #corrected\n",
        "    F1 <- 1+((2 * t1 ^2) / f1 )+(2 * t1 / sqrt ( f1 )) *sqrt (1+(( t1 ^2) / f1 ))\n",
        "    F3 <- 1+((2 * t3 ^2) / f3 )+(2 * t3 / sqrt ( f3 )) *sqrt (1+(( t3 ^2) / f3 ))\n",
        "\n",
        "    U1 <- ((1 -(2 / (9 * f1 ))) * ( F1 ^(1 / 3) -1)) /sqrt ((2 / (9 * f1 )) * ( F1 ^(2 / 3)+1))\n",
        "    U3 <- ((1 -(2 / (9 * f3 ))) * ( F3 ^(1 / 3) -1)) /sqrt ((2 / (9 * f3 )) * ( F3 ^(2 / 3)+1))\n",
        "\n",
        "    lb <- (1+ sqrt (( n1 * n2 * (1 - u )) /(2 *n * n2 * ( w ^2)+ 2 * n* n1 * ((1 - w )^2)+ n1 * n2 * ((1 -2 * w )^2) * (1+ u ))))^(-1)\n",
        "    Zb <- ( lb * U1 +(1 - lb ) * U3 ) / sqrt (( lb ^2)+(1 - lb )^2)\n",
        "\n",
        "    #pvalue\n",
        "    if (( n1 == 0) && ( n2 == 0)) { pvalue.zb <- t.test ( xp ,yp ,alternative = \"greater\" , paired = TRUE ,   var.equal = TRUE )$p.value\n",
        "    }\n",
        "    else {\n",
        "      pvalue.zb <- pnorm ( Zb, lower.tail = FALSE ) # ONE SIDED\n",
        "    }\n",
        "\n",
        "  return(c(Zb, pvalue.zb))\n",
        "}"
      ]
    },
    {
      "cell_type": "code",
      "execution_count": null,
      "metadata": {
        "id": "mitQXGKfoqo8"
      },
      "outputs": [],
      "source": [
        "Bhoj_T <- function(xp,xu,yp,yu,n,n1,n2){\n",
        "  m1 <- n/(n+n1)\n",
        "  m2  <- n/(n+n2)\n",
        "  xbar1 <- mean ( xp )\n",
        "  xbar2 <- mean ( xu )\n",
        "  ybar1 <- mean ( yp )\n",
        "  ybar2 <- mean ( yu )\n",
        "  xbar <- sum (c(xp,xu))/(n+n1)\n",
        "  ybar <- sum (c(yp,yu))/(n+n2)\n",
        "  a11 <- sum (( xp - xbar1 )^2)\n",
        "  a22 <- sum (( yp - ybar1 )^2)\n",
        "  a12 <- sum (( xp - xbar1 ) * ( yp - ybar1 ))\n",
        "  b1 <- sum (( xu - xbar2 )^2)\n",
        "  b2 <- sum (( yu - ybar2 )^2)\n",
        "  u <- (2*a12)/(a11 + a22)\n",
        "\n",
        "  K1 <- (m1^2+ m2^2-2*m1*m2*u)/((1-m1)^2)\n",
        "  K2 <- (m1^2+ m2^2-2*m1*m2*u)/((1-m2)^2)\n",
        "\n",
        "  #checked\n",
        "  denom <-(((m1^2 * a11 + m2^2 * a22 -2*m1*m2*a12 +\n",
        "    K1*b1*(1-m1)^2 + K2*b2*(1-m2)^2)/(n+n1+n2-3)) *\n",
        "      (1/n + 1/(K1*n1) + 1/(K2*n2)))^(1/2)\n",
        "  num   <-  m1 * xbar1 - m2*ybar1 + (1-m1)*xbar2 - (1-m2)*ybar2\n",
        "\n",
        "  Tb <- num/denom\n",
        "  df <- n+n1+n2-3\n",
        "  p_value <- pt(Tb, df, lower.tail = F) # ONE SIDED\n",
        "\n",
        "  return(c(Tb,p_value))\n",
        "}"
      ]
    },
    {
      "cell_type": "code",
      "execution_count": null,
      "metadata": {
        "id": "rFHuVviIwFWk"
      },
      "outputs": [],
      "source": [
        "LS_Z1s <- function(xp,xu,yp,yu,n,n1,n2){\n",
        "  xbar1 <- mean ( xp )\n",
        "  xbar2 <- mean ( xu )\n",
        "  ybar1 <- mean ( yp )\n",
        "  ybar2 <- mean ( yu )\n",
        "\n",
        "  a11 <- sum (( xp - xbar1 )^2)\n",
        "  a22 <- sum (( yp - ybar1 )^2)\n",
        "  a12 <- sum (( xp - xbar1 ) * ( yp - ybar1 ))\n",
        "\n",
        "  r <- a12/(sqrt(a11*a22))\n",
        "\n",
        "  f1 <- n-1\n",
        "\n",
        "  g <- n*(n+n2+ (n1*a12)/a11 )/( (n+n1)*(n+n2) - n1*n2*r^2) # ~ a_hat\n",
        "  h <- n*(n+n1+ (n2*a12)/a22 )/( (n+n1)*(n+n2) - n1*n2*r^2) # ~ b_hat\n",
        "\n",
        "  V1 <- ( (g^2/n + (1-g)^2/n1)*a11 + (h^2/n + (1-h)^2/n2)*a22 - (2*h*g*a12)/n)/f1 #checked\n",
        "\n",
        "  Z1s <- (g*xbar1 + (1-g)*xbar2 - h*ybar1 - (1-h)*ybar2 )/(sqrt(V1))\n",
        "\n",
        "  p_value <- pt(Z1s, n, lower.tail = F) # ONE SIDED\n",
        "\n",
        "  return(c(Z1s, p_value))\n",
        "}"
      ]
    },
    {
      "cell_type": "markdown",
      "metadata": {
        "id": "GpgAZ5v5OQ4_"
      },
      "source": [
        "## Derrick"
      ]
    },
    {
      "cell_type": "code",
      "execution_count": null,
      "metadata": {
        "id": "fgvvL9k99MuV"
      },
      "outputs": [],
      "source": [
        "Tnew1_derrick <- function(xp,xu,yp,yu,n,r){\n",
        "  x <- c(xp,xu)\n",
        "  y <- c(yp, yu)\n",
        "\n",
        "  n_1 <- length(x)\n",
        "  n_2 <- length(y)\n",
        "\n",
        "  n_a <- length(xu)\n",
        "  n_b <- length(yu)\n",
        "\n",
        "  X_1 <- mean(x)\n",
        "  X_2 <- mean(y)\n",
        "\n",
        "  S_py <- sqrt(((n_1-1)*var(x) + (n_2-1)*var(y))/((n_1-1)+(n_2-1)))\n",
        "\n",
        "  denom_Tnew1 <- S_py * sqrt(1/(n_1)+1/(n_2)-2*r*(n/(n_1*n_2)) )\n",
        "\n",
        "  #compute statistic\n",
        "  Tnew1 <- (X_1 - X_2)/denom_Tnew1\n",
        "\n",
        "  #Reference distribution is T distribution with df= v_1\n",
        "  v1 <- (n-1)+ ((n_a+n_b+n-1)/(n_a+n_b+2*n))*(n_a+n_b)\n",
        "\n",
        "  #p_value\n",
        "  #p_value <- 2*pt(-abs(Tnew1), v1) # TWO SIDED\n",
        "  p_value <- pt(Tnew1, v1, lower.tail = F) # ONE SIDED\n",
        "\n",
        "  return(c(Tnew1, p_value))\n",
        "}"
      ]
    },
    {
      "cell_type": "code",
      "execution_count": null,
      "metadata": {
        "id": "hIx5ILocj5W-"
      },
      "outputs": [],
      "source": [
        "Tnew2_derrick <- function(xp,xu,yp,yu,n,r){\n",
        "  x <- c(xp,xu)\n",
        "  y <- c(yp, yu)\n",
        "\n",
        "  n_1 <- length(x)\n",
        "  n_2 <- length(y)\n",
        "\n",
        "  n_a <- length(xu)\n",
        "  n_b <- length(yu)\n",
        "\n",
        "  X_1 <- mean(x)\n",
        "  X_2 <- mean(y)\n",
        "\n",
        "  denom_Tnew1 <- sqrt(var(x)/(n_1)+var(y)/(n_2)-2*r*((sqrt(var(x)*var(y))*n)/(n_1*n_2)) )\n",
        "\n",
        "  #compute statistic\n",
        "  Tnew2 <- (X_1 - X_2)/denom_Tnew1\n",
        "\n",
        "  #Reference distribution is T distribution with df= v_1\n",
        "  gamma_df <- (var(x)/n_1 + var(y)/n_2)^2/((var(x)/n_1)^2/(n_1-1) + (var(y)/n_2)^2/(n_2-1))\n",
        "  v2 <- (n-1)+ ((gamma_df -n+1)/(n_a +n_b + 2*n))*(n_a+n_b)\n",
        "\n",
        "  #get p_value from this reference distribution\n",
        "  #p_value <- 2*pt(-abs(Tnew2), v2) #TWO SIDED\n",
        "  p_value <- pt(Tnew2, v2, lower.tail = F)  # ONE SIDED\n",
        "\n",
        "  return(c(Tnew2, p_value))\n",
        "}"
      ]
    },
    {
      "cell_type": "code",
      "execution_count": null,
      "metadata": {
        "id": "DBEPOVZ5uuL7"
      },
      "outputs": [],
      "source": [
        "T_adj <- function(Tnew2_stat,xp,xu,yp,yu,n ){\n",
        "  x <- c(xp,xu)\n",
        "  y <- c(yp, yu)\n",
        "\n",
        "  n_1 <- length(c(xp,xu))\n",
        "  n_2 <- length(c(yp,yu))\n",
        "\n",
        "  #satterthwaite df\n",
        "  satterth_df <- (var(x)/n_1 + var(y)/n_2)^2/((var(x)/n_1)^2/(n_1-1) + (var(y)/n_2)^2/(n_2-1))\n",
        "  paired_df <- n-1\n",
        "\n",
        "  v2 <- satterth_df+paired_df\n",
        "\n",
        "  #get p_value from this reference distribution\n",
        "  p_value <- pt(Tnew2_stat, v2, lower.tail = F) # ONE SIDED\n",
        "\n",
        "  return(p_value)\n",
        "}"
      ]
    },
    {
      "cell_type": "markdown",
      "metadata": {
        "id": "DbYjOXzPR8SI"
      },
      "source": [
        "## Initialization"
      ]
    },
    {
      "cell_type": "code",
      "execution_count": null,
      "metadata": {
        "id": "4ClH5aRQI1U4"
      },
      "outputs": [],
      "source": [
        "np <- 566\n",
        "m <- 5000\n",
        "\n",
        "#sigma_x is parameterized for gamma\n",
        "sigma_y = 1\n",
        "\n",
        "conf = 0.05\n",
        "dist = \" Normal \"\n",
        "col_names <- c(' Tnew1 ', ' Tnew2 ', ' T_Partover ',' T_adj ', \" Zb \", ' Z1s ', \" Tb \", \" M\", \" R \",\" Rw \", \" T test \",\" S \")\n",
        "\n",
        "#Set the desired levels to be tested\n",
        "delta_levels <- c(0, 0.5,1)\n",
        "gamma_levels <- c(1,2,4)\n",
        "cor_levels <- c(0.1, 0.3, 0.5, 0.9)\n",
        "\n",
        "#Initialize power levels used in simulation loop\n",
        "D = rep ( NA ,m )\n",
        "Dw = rep ( NA , m )\n",
        "M = rep ( NA ,m )\n",
        "Robs = rep ( NA , m )\n",
        "Rwobs = rep ( NA , m)\n",
        "W = rep ( NA ,m )\n",
        "t.stat = rep ( NA , m )\n",
        "Tobs = rep ( NA , m )\n",
        "Zb = rep ( NA , m )\n",
        "pwr.t = 0\n",
        "pwr.Z1s =0\n",
        "pwr.r = 0\n",
        "pwr.rw = 0\n",
        "pwr.zb = 0\n",
        "pwr.Tb = 0\n",
        "pwr.m = 0\n",
        "pwr.ttest = 0\n",
        "pwr.tvar1 = 0\n",
        "pwr.tvar2 = 0\n",
        "pwr.d = 0\n",
        "pwr.dw = 0\n",
        "pwr.w = 0\n",
        "pwr.package_test = 0\n",
        "pwr.T_adj = 0"
      ]
    },
    {
      "cell_type": "markdown",
      "metadata": {
        "id": "ypbpgPdAJk1Y"
      },
      "source": [
        "\n",
        "# Outer data loop\n"
      ]
    },
    {
      "cell_type": "code",
      "execution_count": null,
      "metadata": {
        "collapsed": true,
        "id": "d3Sput4bJiN8"
      },
      "outputs": [],
      "source": [
        "outer_data_loop <- function(samp, sampx, sampy, mu1 , mu2, sigma_x, cor){\n",
        "for ( j in 1: m ) {\n",
        "  dt <- data( samp , sampx , sampy , mu1 , mu2, sigma_x, sigma_y , cor , diff , dist )\n",
        "  xp <- dt $ xp\n",
        "  yp <- dt $ yp\n",
        "  xu <- dt $ xu\n",
        "  yu <- dt $ yu\n",
        "  n <- dt $ n\n",
        "  n1 <- dt $ n1\n",
        "  n2 <- dt $ n2\n",
        "  r <- dt $ r\n",
        "\n",
        "  # Dubnicka\n",
        "  if (( n1 != 0) && ( n2 != 0)){\n",
        "    N = n1 + n2\n",
        "    wr =2 / (( n * N )+(2 * n1 * n2 ))\n",
        "\n",
        "    Sobs = wilcox.test( xp , yp , alternative = \"greater\" ,paired = TRUE )$statistic\n",
        "    Uobs = wilcox.test( xu , yu , alternative = \"greater\" ,paired = FALSE )$ statistic\n",
        "    Robs [j ]= Sobs + Uobs\n",
        "    Rwobs [ j ]=(( N / ( n +1)) * wr * Sobs )+( wr * Uobs )\n",
        "    }\n",
        "  else {\n",
        "      wr =1\n",
        "      Sobs = wilcox.test( xp , yp , alternative = \"greater\" ,paired = TRUE )$statistic\n",
        "      Robs [j ]= Sobs\n",
        "      Rwobs [ j ]= wr * Sobs\n",
        "    }\n",
        "\n",
        "  # Magel\n",
        "  mus <- n * ( n +1) / 4\n",
        "  vars <- n * ( n +1) * (2 *n +1) / 24\n",
        "  muu <- n1 * n2 / 2\n",
        "  varu <- n1 * n2 * ( n1 + n2 +1) / 12\n",
        "  if (( n1!= 0) && ( n2 != 0)) {\n",
        "    M [ j ] = (1 / sqrt (2)) * ((( Sobs - mus ) / sqrt ( vars ))+\n",
        "      (( Uobs - muu ) / sqrt ( varu )))\n",
        "  } else M [ j ] = (( Sobs - mus )/ sqrt ( vars ))\n",
        "\n",
        "  # Dubnicka asymptotic R, Rw\n",
        "  D [ j ] = ( Robs [ j ] -( mus + muu )) / sqrt ( vars + varu )\n",
        "  Sz = ( Sobs - mus ) / sqrt ( vars )\n",
        "  if (( n1 != 0) && ( n2 != 0)) {\n",
        "    Uz = ( Uobs - muu ) / sqrt ( varu )\n",
        "    Dw [j ] = ( Rwobs [ j ] -(1 / 2)) /\n",
        "    sqrt ((((( N / (n +1)) * wr )^2) * vars )+((( wr )^2) * varu ))\n",
        "  } else Dw [ j] = D [ j]\n",
        "\n",
        "  # Bhoj\n",
        "  pvalue.zb <- Bhoj_Zb(xp,xu,yp,yu,n,n1,n2)[2]\n",
        "\n",
        "  #Lin and Stivers Z1s\n",
        "  LS_Z1s_pvalue <- LS_Z1s(xp,xu,yp,yu,n,n1,n2)[2]\n",
        "\n",
        "  #Bhoj T statistic\n",
        "  Bhoj_T_pvalue <- Bhoj_T(xp,xu,yp,yu,n,n1,n2)[2]\n",
        "\n",
        "  # Paired t - test\n",
        "  ttest <- t.test (xp , yp , alternative = \"greater\" ,paired = TRUE , var.equal =  (sigma_x == sigma_y)  ) #one sided\n",
        "  t.stat [ j ] <- ttest $ statistic\n",
        "\n",
        "  # Derrick statistics\n",
        "  tvar1_pvalue <- Tnew1_derrick(xp,xu,yp,yu,n,r)[2]\n",
        "  tvar2_pvalue <- Tnew2_derrick(xp,xu,yp,yu,n,r)[2]\n",
        "\n",
        "  #Derrick test from package - returns p value based on Boolean variance equality\n",
        "  package_test <- Partover.test(xu,yu,xp,yp,var.equal= (sigma_x == sigma_y) )$p.value\n",
        "\n",
        "  #Proposed Tnew2 improvement\n",
        "    #UNBIASED ESTIMATOR OF CORRELATION\n",
        "  xbar1 <- mean ( xp )\n",
        "  ybar1 <- mean ( yp )\n",
        "  a11 <- sum (( xp - xbar1 )^2)\n",
        "  a22 <- sum (( yp - ybar1 )^2)\n",
        "  a12 <- sum (( xp - xbar1 ) * ( yp - ybar1 ))\n",
        "  cov <- a12/(sqrt(a11*a22))\n",
        "  rho_est <- cov*(1+ (1-cov^2)/(2*(n-3)))\n",
        "\n",
        "  Tnew2_stat <- Tnew2_derrick(xp,xu,yp,yu,n, rho_est)[1]\n",
        "  T_adj_pvalue <- T_adj(Tnew2_stat,xp,xu,yp,yu,n )\n",
        "\n",
        "  # Signed Rank test\n",
        "  W.test <- wilcox.test ( xp ,yp ,alternative =\"greater\" , paired = TRUE ) # one sided\n",
        "  W [ j ] <- ( W.test $ statistic - mus ) / sqrt ( vars )\n",
        "\n",
        "  # Inner Permutation loop\n",
        "  t10 <- rep ( NA , np )\n",
        "  R <- rep ( NA , np )\n",
        "  Rw <- rep (NA , np )\n",
        "  pt = 0\n",
        "  pr = 0\n",
        "  prw = 0\n",
        "  wt =(1 / n2 +1 / n1 ) / ((2 -2 * r ) /n +(1 / n2 +1 / n1 ))\n",
        "\n",
        "\n",
        "  # P VALUES\n",
        "  pvalue.t <- pt / np\n",
        "  pvalue.r <- pr / np\n",
        "  pvalue.rw <- prw / np\n",
        "  pvalue.m <- pnorm ( M[ j ] , lower.tail = FALSE )\n",
        "  pvalue.ttest <- ttest $ p.value\n",
        "  pvalue.d <- pnorm ( D[ j ] , lower.tail = FALSE )\n",
        "  pvalue.dw <- pnorm ( Dw [ j ] , lower.tail = FALSE )\n",
        "  pvalue.w <- pnorm ( W[ j ] , lower.tail = FALSE )\n",
        "\n",
        "  #TYPE 1 ERROR / POWER TESTING\n",
        "  if ( LS_Z1s_pvalue < conf) pwr.Z1s = pwr.Z1s +1\n",
        "  if ( pvalue.zb < conf) pwr.zb = pwr.zb +1\n",
        "  if ( Bhoj_T_pvalue < conf) pwr.Tb = pwr.Tb +1\n",
        "  if ( pvalue.t < conf) pwr.t = pwr.t +1\n",
        "  if ( pvalue.r < conf) pwr.r = pwr.r +1                # r perm\n",
        "  if ( pvalue.rw < conf) pwr.rw = pwr.rw +1             # r w perm\n",
        "  if ( pvalue.m < conf) pwr.m = pwr.m +1\n",
        "  if ( pvalue.ttest < conf) pwr.ttest = pwr.ttest +1\n",
        "  if ( tvar1_pvalue <  conf) pwr.tvar1 = pwr.tvar1 +1   #Derrick Tvar1\n",
        "  if ( tvar2_pvalue <  conf) pwr.tvar2 = pwr.tvar2 +1   #Derrick Tvar2\n",
        "  if ( package_test <  conf) pwr.package_test = pwr.package_test +1   #Derrick Tvar package\n",
        "  if ( T_adj_pvalue <  conf) pwr.T_adj = pwr.T_adj +1                   #Derrick Tvar2 improvement\n",
        "  if ( pvalue.d < conf) pwr.d = pwr.d +1\n",
        "  if ( pvalue.dw < conf) pwr.dw = pwr.dw +1\n",
        "  if ( pvalue.w < conf) pwr.w = pwr.w +1\n",
        "  }\n",
        "\n",
        "\n",
        "  return(list (\n",
        "  'Delta' =  mu1,\n",
        "  'Gamma' =sigma_x,\n",
        "  'Rho' = cor,\n",
        "  ' Tnew1 ' = pwr.tvar1 / m,\n",
        "  ' Tnew2 ' = pwr.tvar2 / m,\n",
        "  ' T_Partover ' = pwr.package_test / m,\n",
        "  ' T_adj ' = pwr.T_adj / m,\n",
        "  \" Zb \" = pwr.zb /m ,\n",
        "  ' Z1s ' =  pwr.Z1s/m,\n",
        "  \" Tb \" = pwr.Tb /m ,\n",
        "  \" M\" = pwr.m/m ,\n",
        "  \" R \" = pwr.d /m ,\n",
        "  \" Rw \" = pwr.dw /m ,\n",
        "  \" T test \" = pwr.ttest /m ,\n",
        "  \" S \" = pwr.w / m))\n",
        "}\n"
      ]
    },
    {
      "cell_type": "markdown",
      "metadata": {
        "id": "d4QJTTfxDUDS"
      },
      "source": [
        "# execute"
      ]
    },
    {
      "cell_type": "markdown",
      "metadata": {
        "id": "mMKFrkDLR_K3"
      },
      "source": [
        "## Execute loop"
      ]
    },
    {
      "cell_type": "code",
      "execution_count": null,
      "metadata": {
        "id": "mPEHvxC5VOn6"
      },
      "outputs": [],
      "source": [
        "run_simulation <- function(samp,sampx,sampy){  #Can also initialize:  delta_levels, gamma_levels,cor_levels\n",
        "  results.compile <- data.frame()\n",
        "\n",
        "    #executing loop\n",
        "  for(mu1 in delta_levels){\n",
        "    for(sigma_x in gamma_levels){\n",
        "\n",
        "        results <- data.frame(matrix(ncol = length(col_names) + 3, nrow = length(cor_levels)))  # Initialize one-run  dataframe, cases x (tests + 3 labels)\n",
        "\n",
        "        for(cor in  cor_levels){\n",
        "          set.seed(2018)\n",
        "          results[match(cor, cor_levels), ] <- outer_data_loop(samp, sampx, sampy, mu1, 0, sigma_x, cor)\n",
        "          }\n",
        "      colnames(results) <- c( 'Delta','Gamma', 'Rho', col_names)\n",
        "      results.compile <- rbind(results.compile, results)\n",
        "    }\n",
        "  }\n",
        "  return(results.compile)\n",
        "}"
      ]
    },
    {
      "cell_type": "code",
      "execution_count": null,
      "metadata": {
        "id": "0kKAH6FENITv"
      },
      "outputs": [],
      "source": [
        "#The final cases used for the associated paper were as follows:\n",
        "final_cases <- list(c(5,5,10),\n",
        "c(5,10,5),\n",
        "c(5,7,8) ,\n",
        "c(5,8,7),\n",
        "c(10,5,5),\n",
        "c(10,7,3) ,\n",
        "c(10,3,7) ,\n",
        "c(15,2,3),\n",
        "c(15,3,2) ,\n",
        "c(15,15,30),\n",
        "c(15,30,15) ,\n",
        "c(15,22,23) ,\n",
        "c(30,15,15) ,\n",
        "c(30,21,9),\n",
        "c(30,9,21) ,\n",
        "c(45,7,8) ,\n",
        "c(45,8,7) )"
      ]
    },
    {
      "cell_type": "markdown",
      "source": [
        "**Run a single example**"
      ],
      "metadata": {
        "id": "hLIsppRuoZHN"
      }
    },
    {
      "cell_type": "code",
      "source": [
        "results <- run_simulation(15,15,30)\n",
        "results"
      ],
      "metadata": {
        "id": "m8x_ziChU8KU",
        "colab": {
          "base_uri": "https://localhost:8080/",
          "height": 1000
        },
        "outputId": "319ec729-ea0b-4b2c-baac-59ecc1214b5b"
      },
      "execution_count": null,
      "outputs": [
        {
          "output_type": "display_data",
          "data": {
            "text/html": [
              "<table class=\"dataframe\">\n",
              "<caption>A data.frame: 36 × 15</caption>\n",
              "<thead>\n",
              "\t<tr><th scope=col>Delta</th><th scope=col>Gamma</th><th scope=col>Rho</th><th scope=col> Tnew1 </th><th scope=col> Tnew2 </th><th scope=col> T_Partover </th><th scope=col> T_adj </th><th scope=col> Zb </th><th scope=col> Z1s </th><th scope=col> Tb </th><th scope=col> M</th><th scope=col> R </th><th scope=col> Rw </th><th scope=col> T test </th><th scope=col> S </th></tr>\n",
              "\t<tr><th scope=col>&lt;dbl&gt;</th><th scope=col>&lt;dbl&gt;</th><th scope=col>&lt;dbl&gt;</th><th scope=col>&lt;dbl&gt;</th><th scope=col>&lt;dbl&gt;</th><th scope=col>&lt;dbl&gt;</th><th scope=col>&lt;dbl&gt;</th><th scope=col>&lt;dbl&gt;</th><th scope=col>&lt;dbl&gt;</th><th scope=col>&lt;dbl&gt;</th><th scope=col>&lt;dbl&gt;</th><th scope=col>&lt;dbl&gt;</th><th scope=col>&lt;dbl&gt;</th><th scope=col>&lt;dbl&gt;</th><th scope=col>&lt;dbl&gt;</th></tr>\n",
              "</thead>\n",
              "<tbody>\n",
              "\t<tr><td>0.0</td><td>1</td><td>0.1</td><td>0.0474</td><td>0.0486</td><td>0.0516</td><td>0.0504</td><td>0.0496</td><td>0.0500</td><td>0.0462</td><td>0.0490</td><td>0.0474</td><td>0.0482</td><td>0.0528</td><td>0.0540</td></tr>\n",
              "\t<tr><td>0.0</td><td>1</td><td>0.3</td><td>0.0470</td><td>0.0482</td><td>0.0498</td><td>0.0490</td><td>0.0504</td><td>0.0520</td><td>0.0470</td><td>0.0494</td><td>0.0478</td><td>0.0496</td><td>0.0528</td><td>0.0540</td></tr>\n",
              "\t<tr><td>0.0</td><td>1</td><td>0.5</td><td>0.0492</td><td>0.0506</td><td>0.0478</td><td>0.0528</td><td>0.0518</td><td>0.0544</td><td>0.0484</td><td>0.0502</td><td>0.0470</td><td>0.0482</td><td>0.0528</td><td>0.0540</td></tr>\n",
              "\t<tr><td>0.0</td><td>1</td><td>0.9</td><td>0.0500</td><td>0.0500</td><td>0.0496</td><td>0.0518</td><td>0.0540</td><td>0.0624</td><td>0.0494</td><td>0.0488</td><td>0.0502</td><td>0.0510</td><td>0.0528</td><td>0.0540</td></tr>\n",
              "\t<tr><td>0.0</td><td>2</td><td>0.1</td><td>0.0768</td><td>0.0504</td><td>0.0560</td><td>0.0526</td><td>0.0728</td><td>0.0552</td><td>0.0712</td><td>0.0666</td><td>0.0722</td><td>0.0632</td><td>0.0490</td><td>0.0536</td></tr>\n",
              "\t<tr><td>0.0</td><td>2</td><td>0.3</td><td>0.0774</td><td>0.0508</td><td>0.0566</td><td>0.0536</td><td>0.0748</td><td>0.0576</td><td>0.0708</td><td>0.0650</td><td>0.0708</td><td>0.0628</td><td>0.0474</td><td>0.0534</td></tr>\n",
              "\t<tr><td>0.0</td><td>2</td><td>0.5</td><td>0.0798</td><td>0.0512</td><td>0.0552</td><td>0.0534</td><td>0.0746</td><td>0.0594</td><td>0.0686</td><td>0.0642</td><td>0.0704</td><td>0.0622</td><td>0.0484</td><td>0.0542</td></tr>\n",
              "\t<tr><td>0.0</td><td>2</td><td>0.9</td><td>0.0916</td><td>0.0526</td><td>0.0556</td><td>0.0564</td><td>0.0726</td><td>0.0540</td><td>0.0666</td><td>0.0652</td><td>0.0714</td><td>0.0632</td><td>0.0492</td><td>0.0558</td></tr>\n",
              "\t<tr><td>0.0</td><td>4</td><td>0.1</td><td>0.0908</td><td>0.0532</td><td>0.0528</td><td>0.0556</td><td>0.0816</td><td>0.0596</td><td>0.0852</td><td>0.0758</td><td>0.0908</td><td>0.0722</td><td>0.0488</td><td>0.0520</td></tr>\n",
              "\t<tr><td>0.0</td><td>4</td><td>0.3</td><td>0.0970</td><td>0.0520</td><td>0.0528</td><td>0.0556</td><td>0.0822</td><td>0.0594</td><td>0.0862</td><td>0.0766</td><td>0.0902</td><td>0.0714</td><td>0.0486</td><td>0.0520</td></tr>\n",
              "\t<tr><td>0.0</td><td>4</td><td>0.5</td><td>0.1030</td><td>0.0522</td><td>0.0532</td><td>0.0542</td><td>0.0830</td><td>0.0568</td><td>0.0844</td><td>0.0758</td><td>0.0918</td><td>0.0708</td><td>0.0486</td><td>0.0520</td></tr>\n",
              "\t<tr><td>0.0</td><td>4</td><td>0.9</td><td>0.1182</td><td>0.0522</td><td>0.0536</td><td>0.0562</td><td>0.0818</td><td>0.0526</td><td>0.0790</td><td>0.0780</td><td>0.0896</td><td>0.0728</td><td>0.0508</td><td>0.0548</td></tr>\n",
              "\t<tr><td>0.5</td><td>1</td><td>0.1</td><td>0.6824</td><td>0.6802</td><td>0.5672</td><td>0.6870</td><td>0.6798</td><td>0.6646</td><td>0.6840</td><td>0.6546</td><td>0.6026</td><td>0.6500</td><td>0.4042</td><td>0.4112</td></tr>\n",
              "\t<tr><td>0.5</td><td>1</td><td>0.3</td><td>0.7136</td><td>0.7108</td><td>0.5988</td><td>0.7166</td><td>0.7168</td><td>0.7074</td><td>0.7146</td><td>0.6962</td><td>0.6264</td><td>0.6924</td><td>0.4782</td><td>0.4778</td></tr>\n",
              "\t<tr><td>0.5</td><td>1</td><td>0.5</td><td>0.7460</td><td>0.7432</td><td>0.6412</td><td>0.7504</td><td>0.7822</td><td>0.7766</td><td>0.7480</td><td>0.7520</td><td>0.6640</td><td>0.7570</td><td>0.5858</td><td>0.5846</td></tr>\n",
              "\t<tr><td>0.5</td><td>1</td><td>0.9</td><td>0.8256</td><td>0.8226</td><td>0.7300</td><td>0.8264</td><td>0.9960</td><td>0.9962</td><td>0.8260</td><td>0.9742</td><td>0.8282</td><td>0.9840</td><td>0.9920</td><td>0.9882</td></tr>\n",
              "\t<tr><td>0.5</td><td>2</td><td>0.1</td><td>0.4308</td><td>0.3480</td><td>0.2374</td><td>0.3582</td><td>0.4196</td><td>0.3446</td><td>0.4194</td><td>0.3668</td><td>0.3526</td><td>0.3614</td><td>0.2114</td><td>0.2106</td></tr>\n",
              "\t<tr><td>0.5</td><td>2</td><td>0.3</td><td>0.4500</td><td>0.3646</td><td>0.2492</td><td>0.3754</td><td>0.4354</td><td>0.3696</td><td>0.4338</td><td>0.3858</td><td>0.3632</td><td>0.3830</td><td>0.2344</td><td>0.2350</td></tr>\n",
              "\t<tr><td>0.5</td><td>2</td><td>0.5</td><td>0.4782</td><td>0.3782</td><td>0.2594</td><td>0.3880</td><td>0.4628</td><td>0.4126</td><td>0.4486</td><td>0.4184</td><td>0.3818</td><td>0.4164</td><td>0.2710</td><td>0.2778</td></tr>\n",
              "\t<tr><td>0.5</td><td>2</td><td>0.9</td><td>0.5456</td><td>0.4128</td><td>0.2958</td><td>0.4236</td><td>0.5936</td><td>0.7076</td><td>0.4698</td><td>0.5408</td><td>0.4400</td><td>0.5538</td><td>0.4570</td><td>0.4530</td></tr>\n",
              "\t<tr><td>0.5</td><td>4</td><td>0.1</td><td>0.2492</td><td>0.1596</td><td>0.0996</td><td>0.1652</td><td>0.2318</td><td>0.1674</td><td>0.2354</td><td>0.2006</td><td>0.2096</td><td>0.1950</td><td>0.1206</td><td>0.1238</td></tr>\n",
              "\t<tr><td>0.5</td><td>4</td><td>0.3</td><td>0.2650</td><td>0.1600</td><td>0.1010</td><td>0.1684</td><td>0.2368</td><td>0.1734</td><td>0.2386</td><td>0.2062</td><td>0.2166</td><td>0.2004</td><td>0.1264</td><td>0.1282</td></tr>\n",
              "\t<tr><td>0.5</td><td>4</td><td>0.5</td><td>0.2818</td><td>0.1632</td><td>0.1022</td><td>0.1720</td><td>0.2408</td><td>0.1806</td><td>0.2420</td><td>0.2142</td><td>0.2202</td><td>0.2086</td><td>0.1308</td><td>0.1354</td></tr>\n",
              "\t<tr><td>0.5</td><td>4</td><td>0.9</td><td>0.3172</td><td>0.1728</td><td>0.1068</td><td>0.1804</td><td>0.2556</td><td>0.2488</td><td>0.2436</td><td>0.2256</td><td>0.2234</td><td>0.2216</td><td>0.1476</td><td>0.1528</td></tr>\n",
              "\t<tr><td>1.0</td><td>1</td><td>0.1</td><td>0.9958</td><td>0.9958</td><td>0.9868</td><td>0.9958</td><td>0.9954</td><td>0.9936</td><td>0.9956</td><td>0.9916</td><td>0.9808</td><td>0.9914</td><td>0.8654</td><td>0.8614</td></tr>\n",
              "\t<tr><td>1.0</td><td>1</td><td>0.3</td><td>0.9974</td><td>0.9980</td><td>0.9936</td><td>0.9980</td><td>0.9974</td><td>0.9972</td><td>0.9974</td><td>0.9956</td><td>0.9858</td><td>0.9952</td><td>0.9278</td><td>0.9224</td></tr>\n",
              "\t<tr><td>1.0</td><td>1</td><td>0.5</td><td>0.9986</td><td>0.9988</td><td>0.9960</td><td>0.9988</td><td>0.9992</td><td>0.9990</td><td>0.9986</td><td>0.9978</td><td>0.9896</td><td>0.9984</td><td>0.9750</td><td>0.9722</td></tr>\n",
              "\t<tr><td>1.0</td><td>1</td><td>0.9</td><td>0.9994</td><td>0.9994</td><td>0.9984</td><td>0.9994</td><td>1.0000</td><td>1.0000</td><td>0.9994</td><td>1.0000</td><td>0.9948</td><td>1.0000</td><td>1.0000</td><td>1.0000</td></tr>\n",
              "\t<tr><td>1.0</td><td>2</td><td>0.1</td><td>0.8622</td><td>0.8068</td><td>0.7032</td><td>0.8128</td><td>0.8496</td><td>0.7924</td><td>0.8562</td><td>0.7998</td><td>0.7566</td><td>0.7992</td><td>0.5170</td><td>0.5182</td></tr>\n",
              "\t<tr><td>1.0</td><td>2</td><td>0.3</td><td>0.8814</td><td>0.8244</td><td>0.7280</td><td>0.8322</td><td>0.8724</td><td>0.8250</td><td>0.8714</td><td>0.8286</td><td>0.7750</td><td>0.8260</td><td>0.5884</td><td>0.5900</td></tr>\n",
              "\t<tr><td>1.0</td><td>2</td><td>0.5</td><td>0.8988</td><td>0.8458</td><td>0.7518</td><td>0.8526</td><td>0.8982</td><td>0.8682</td><td>0.8854</td><td>0.8630</td><td>0.7962</td><td>0.8646</td><td>0.6778</td><td>0.6756</td></tr>\n",
              "\t<tr><td>1.0</td><td>2</td><td>0.9</td><td>0.9364</td><td>0.8886</td><td>0.8134</td><td>0.8938</td><td>0.9728</td><td>0.9966</td><td>0.9120</td><td>0.9494</td><td>0.8562</td><td>0.9566</td><td>0.9260</td><td>0.9198</td></tr>\n",
              "\t<tr><td>1.0</td><td>4</td><td>0.1</td><td>0.4868</td><td>0.3688</td><td>0.2500</td><td>0.3806</td><td>0.4684</td><td>0.3734</td><td>0.4710</td><td>0.4078</td><td>0.3956</td><td>0.4032</td><td>0.2338</td><td>0.2338</td></tr>\n",
              "\t<tr><td>1.0</td><td>4</td><td>0.3</td><td>0.5092</td><td>0.3768</td><td>0.2572</td><td>0.3896</td><td>0.4774</td><td>0.3868</td><td>0.4792</td><td>0.4202</td><td>0.4012</td><td>0.4164</td><td>0.2480</td><td>0.2478</td></tr>\n",
              "\t<tr><td>1.0</td><td>4</td><td>0.5</td><td>0.5344</td><td>0.3854</td><td>0.2652</td><td>0.3970</td><td>0.4920</td><td>0.4168</td><td>0.4852</td><td>0.4342</td><td>0.4084</td><td>0.4290</td><td>0.2640</td><td>0.2656</td></tr>\n",
              "\t<tr><td>1.0</td><td>4</td><td>0.9</td><td>0.5970</td><td>0.4012</td><td>0.2844</td><td>0.4164</td><td>0.5214</td><td>0.6040</td><td>0.5002</td><td>0.4728</td><td>0.4250</td><td>0.4706</td><td>0.3126</td><td>0.3160</td></tr>\n",
              "</tbody>\n",
              "</table>\n"
            ],
            "text/markdown": "\nA data.frame: 36 × 15\n\n| Delta &lt;dbl&gt; | Gamma &lt;dbl&gt; | Rho &lt;dbl&gt; |  Tnew1  &lt;dbl&gt; |  Tnew2  &lt;dbl&gt; |  T_Partover  &lt;dbl&gt; |  T_adj  &lt;dbl&gt; |  Zb  &lt;dbl&gt; |  Z1s  &lt;dbl&gt; |  Tb  &lt;dbl&gt; |  M &lt;dbl&gt; |  R  &lt;dbl&gt; |  Rw  &lt;dbl&gt; |  T test  &lt;dbl&gt; |  S  &lt;dbl&gt; |\n|---|---|---|---|---|---|---|---|---|---|---|---|---|---|---|\n| 0.0 | 1 | 0.1 | 0.0474 | 0.0486 | 0.0516 | 0.0504 | 0.0496 | 0.0500 | 0.0462 | 0.0490 | 0.0474 | 0.0482 | 0.0528 | 0.0540 |\n| 0.0 | 1 | 0.3 | 0.0470 | 0.0482 | 0.0498 | 0.0490 | 0.0504 | 0.0520 | 0.0470 | 0.0494 | 0.0478 | 0.0496 | 0.0528 | 0.0540 |\n| 0.0 | 1 | 0.5 | 0.0492 | 0.0506 | 0.0478 | 0.0528 | 0.0518 | 0.0544 | 0.0484 | 0.0502 | 0.0470 | 0.0482 | 0.0528 | 0.0540 |\n| 0.0 | 1 | 0.9 | 0.0500 | 0.0500 | 0.0496 | 0.0518 | 0.0540 | 0.0624 | 0.0494 | 0.0488 | 0.0502 | 0.0510 | 0.0528 | 0.0540 |\n| 0.0 | 2 | 0.1 | 0.0768 | 0.0504 | 0.0560 | 0.0526 | 0.0728 | 0.0552 | 0.0712 | 0.0666 | 0.0722 | 0.0632 | 0.0490 | 0.0536 |\n| 0.0 | 2 | 0.3 | 0.0774 | 0.0508 | 0.0566 | 0.0536 | 0.0748 | 0.0576 | 0.0708 | 0.0650 | 0.0708 | 0.0628 | 0.0474 | 0.0534 |\n| 0.0 | 2 | 0.5 | 0.0798 | 0.0512 | 0.0552 | 0.0534 | 0.0746 | 0.0594 | 0.0686 | 0.0642 | 0.0704 | 0.0622 | 0.0484 | 0.0542 |\n| 0.0 | 2 | 0.9 | 0.0916 | 0.0526 | 0.0556 | 0.0564 | 0.0726 | 0.0540 | 0.0666 | 0.0652 | 0.0714 | 0.0632 | 0.0492 | 0.0558 |\n| 0.0 | 4 | 0.1 | 0.0908 | 0.0532 | 0.0528 | 0.0556 | 0.0816 | 0.0596 | 0.0852 | 0.0758 | 0.0908 | 0.0722 | 0.0488 | 0.0520 |\n| 0.0 | 4 | 0.3 | 0.0970 | 0.0520 | 0.0528 | 0.0556 | 0.0822 | 0.0594 | 0.0862 | 0.0766 | 0.0902 | 0.0714 | 0.0486 | 0.0520 |\n| 0.0 | 4 | 0.5 | 0.1030 | 0.0522 | 0.0532 | 0.0542 | 0.0830 | 0.0568 | 0.0844 | 0.0758 | 0.0918 | 0.0708 | 0.0486 | 0.0520 |\n| 0.0 | 4 | 0.9 | 0.1182 | 0.0522 | 0.0536 | 0.0562 | 0.0818 | 0.0526 | 0.0790 | 0.0780 | 0.0896 | 0.0728 | 0.0508 | 0.0548 |\n| 0.5 | 1 | 0.1 | 0.6824 | 0.6802 | 0.5672 | 0.6870 | 0.6798 | 0.6646 | 0.6840 | 0.6546 | 0.6026 | 0.6500 | 0.4042 | 0.4112 |\n| 0.5 | 1 | 0.3 | 0.7136 | 0.7108 | 0.5988 | 0.7166 | 0.7168 | 0.7074 | 0.7146 | 0.6962 | 0.6264 | 0.6924 | 0.4782 | 0.4778 |\n| 0.5 | 1 | 0.5 | 0.7460 | 0.7432 | 0.6412 | 0.7504 | 0.7822 | 0.7766 | 0.7480 | 0.7520 | 0.6640 | 0.7570 | 0.5858 | 0.5846 |\n| 0.5 | 1 | 0.9 | 0.8256 | 0.8226 | 0.7300 | 0.8264 | 0.9960 | 0.9962 | 0.8260 | 0.9742 | 0.8282 | 0.9840 | 0.9920 | 0.9882 |\n| 0.5 | 2 | 0.1 | 0.4308 | 0.3480 | 0.2374 | 0.3582 | 0.4196 | 0.3446 | 0.4194 | 0.3668 | 0.3526 | 0.3614 | 0.2114 | 0.2106 |\n| 0.5 | 2 | 0.3 | 0.4500 | 0.3646 | 0.2492 | 0.3754 | 0.4354 | 0.3696 | 0.4338 | 0.3858 | 0.3632 | 0.3830 | 0.2344 | 0.2350 |\n| 0.5 | 2 | 0.5 | 0.4782 | 0.3782 | 0.2594 | 0.3880 | 0.4628 | 0.4126 | 0.4486 | 0.4184 | 0.3818 | 0.4164 | 0.2710 | 0.2778 |\n| 0.5 | 2 | 0.9 | 0.5456 | 0.4128 | 0.2958 | 0.4236 | 0.5936 | 0.7076 | 0.4698 | 0.5408 | 0.4400 | 0.5538 | 0.4570 | 0.4530 |\n| 0.5 | 4 | 0.1 | 0.2492 | 0.1596 | 0.0996 | 0.1652 | 0.2318 | 0.1674 | 0.2354 | 0.2006 | 0.2096 | 0.1950 | 0.1206 | 0.1238 |\n| 0.5 | 4 | 0.3 | 0.2650 | 0.1600 | 0.1010 | 0.1684 | 0.2368 | 0.1734 | 0.2386 | 0.2062 | 0.2166 | 0.2004 | 0.1264 | 0.1282 |\n| 0.5 | 4 | 0.5 | 0.2818 | 0.1632 | 0.1022 | 0.1720 | 0.2408 | 0.1806 | 0.2420 | 0.2142 | 0.2202 | 0.2086 | 0.1308 | 0.1354 |\n| 0.5 | 4 | 0.9 | 0.3172 | 0.1728 | 0.1068 | 0.1804 | 0.2556 | 0.2488 | 0.2436 | 0.2256 | 0.2234 | 0.2216 | 0.1476 | 0.1528 |\n| 1.0 | 1 | 0.1 | 0.9958 | 0.9958 | 0.9868 | 0.9958 | 0.9954 | 0.9936 | 0.9956 | 0.9916 | 0.9808 | 0.9914 | 0.8654 | 0.8614 |\n| 1.0 | 1 | 0.3 | 0.9974 | 0.9980 | 0.9936 | 0.9980 | 0.9974 | 0.9972 | 0.9974 | 0.9956 | 0.9858 | 0.9952 | 0.9278 | 0.9224 |\n| 1.0 | 1 | 0.5 | 0.9986 | 0.9988 | 0.9960 | 0.9988 | 0.9992 | 0.9990 | 0.9986 | 0.9978 | 0.9896 | 0.9984 | 0.9750 | 0.9722 |\n| 1.0 | 1 | 0.9 | 0.9994 | 0.9994 | 0.9984 | 0.9994 | 1.0000 | 1.0000 | 0.9994 | 1.0000 | 0.9948 | 1.0000 | 1.0000 | 1.0000 |\n| 1.0 | 2 | 0.1 | 0.8622 | 0.8068 | 0.7032 | 0.8128 | 0.8496 | 0.7924 | 0.8562 | 0.7998 | 0.7566 | 0.7992 | 0.5170 | 0.5182 |\n| 1.0 | 2 | 0.3 | 0.8814 | 0.8244 | 0.7280 | 0.8322 | 0.8724 | 0.8250 | 0.8714 | 0.8286 | 0.7750 | 0.8260 | 0.5884 | 0.5900 |\n| 1.0 | 2 | 0.5 | 0.8988 | 0.8458 | 0.7518 | 0.8526 | 0.8982 | 0.8682 | 0.8854 | 0.8630 | 0.7962 | 0.8646 | 0.6778 | 0.6756 |\n| 1.0 | 2 | 0.9 | 0.9364 | 0.8886 | 0.8134 | 0.8938 | 0.9728 | 0.9966 | 0.9120 | 0.9494 | 0.8562 | 0.9566 | 0.9260 | 0.9198 |\n| 1.0 | 4 | 0.1 | 0.4868 | 0.3688 | 0.2500 | 0.3806 | 0.4684 | 0.3734 | 0.4710 | 0.4078 | 0.3956 | 0.4032 | 0.2338 | 0.2338 |\n| 1.0 | 4 | 0.3 | 0.5092 | 0.3768 | 0.2572 | 0.3896 | 0.4774 | 0.3868 | 0.4792 | 0.4202 | 0.4012 | 0.4164 | 0.2480 | 0.2478 |\n| 1.0 | 4 | 0.5 | 0.5344 | 0.3854 | 0.2652 | 0.3970 | 0.4920 | 0.4168 | 0.4852 | 0.4342 | 0.4084 | 0.4290 | 0.2640 | 0.2656 |\n| 1.0 | 4 | 0.9 | 0.5970 | 0.4012 | 0.2844 | 0.4164 | 0.5214 | 0.6040 | 0.5002 | 0.4728 | 0.4250 | 0.4706 | 0.3126 | 0.3160 |\n\n",
            "text/latex": "A data.frame: 36 × 15\n\\begin{tabular}{lllllllllllllll}\n Delta & Gamma & Rho &  Tnew1  &  Tnew2  &  T\\_Partover  &  T\\_adj  &  Zb  &  Z1s  &  Tb  &  M &  R  &  Rw  &  T test  &  S \\\\\n <dbl> & <dbl> & <dbl> & <dbl> & <dbl> & <dbl> & <dbl> & <dbl> & <dbl> & <dbl> & <dbl> & <dbl> & <dbl> & <dbl> & <dbl>\\\\\n\\hline\n\t 0.0 & 1 & 0.1 & 0.0474 & 0.0486 & 0.0516 & 0.0504 & 0.0496 & 0.0500 & 0.0462 & 0.0490 & 0.0474 & 0.0482 & 0.0528 & 0.0540\\\\\n\t 0.0 & 1 & 0.3 & 0.0470 & 0.0482 & 0.0498 & 0.0490 & 0.0504 & 0.0520 & 0.0470 & 0.0494 & 0.0478 & 0.0496 & 0.0528 & 0.0540\\\\\n\t 0.0 & 1 & 0.5 & 0.0492 & 0.0506 & 0.0478 & 0.0528 & 0.0518 & 0.0544 & 0.0484 & 0.0502 & 0.0470 & 0.0482 & 0.0528 & 0.0540\\\\\n\t 0.0 & 1 & 0.9 & 0.0500 & 0.0500 & 0.0496 & 0.0518 & 0.0540 & 0.0624 & 0.0494 & 0.0488 & 0.0502 & 0.0510 & 0.0528 & 0.0540\\\\\n\t 0.0 & 2 & 0.1 & 0.0768 & 0.0504 & 0.0560 & 0.0526 & 0.0728 & 0.0552 & 0.0712 & 0.0666 & 0.0722 & 0.0632 & 0.0490 & 0.0536\\\\\n\t 0.0 & 2 & 0.3 & 0.0774 & 0.0508 & 0.0566 & 0.0536 & 0.0748 & 0.0576 & 0.0708 & 0.0650 & 0.0708 & 0.0628 & 0.0474 & 0.0534\\\\\n\t 0.0 & 2 & 0.5 & 0.0798 & 0.0512 & 0.0552 & 0.0534 & 0.0746 & 0.0594 & 0.0686 & 0.0642 & 0.0704 & 0.0622 & 0.0484 & 0.0542\\\\\n\t 0.0 & 2 & 0.9 & 0.0916 & 0.0526 & 0.0556 & 0.0564 & 0.0726 & 0.0540 & 0.0666 & 0.0652 & 0.0714 & 0.0632 & 0.0492 & 0.0558\\\\\n\t 0.0 & 4 & 0.1 & 0.0908 & 0.0532 & 0.0528 & 0.0556 & 0.0816 & 0.0596 & 0.0852 & 0.0758 & 0.0908 & 0.0722 & 0.0488 & 0.0520\\\\\n\t 0.0 & 4 & 0.3 & 0.0970 & 0.0520 & 0.0528 & 0.0556 & 0.0822 & 0.0594 & 0.0862 & 0.0766 & 0.0902 & 0.0714 & 0.0486 & 0.0520\\\\\n\t 0.0 & 4 & 0.5 & 0.1030 & 0.0522 & 0.0532 & 0.0542 & 0.0830 & 0.0568 & 0.0844 & 0.0758 & 0.0918 & 0.0708 & 0.0486 & 0.0520\\\\\n\t 0.0 & 4 & 0.9 & 0.1182 & 0.0522 & 0.0536 & 0.0562 & 0.0818 & 0.0526 & 0.0790 & 0.0780 & 0.0896 & 0.0728 & 0.0508 & 0.0548\\\\\n\t 0.5 & 1 & 0.1 & 0.6824 & 0.6802 & 0.5672 & 0.6870 & 0.6798 & 0.6646 & 0.6840 & 0.6546 & 0.6026 & 0.6500 & 0.4042 & 0.4112\\\\\n\t 0.5 & 1 & 0.3 & 0.7136 & 0.7108 & 0.5988 & 0.7166 & 0.7168 & 0.7074 & 0.7146 & 0.6962 & 0.6264 & 0.6924 & 0.4782 & 0.4778\\\\\n\t 0.5 & 1 & 0.5 & 0.7460 & 0.7432 & 0.6412 & 0.7504 & 0.7822 & 0.7766 & 0.7480 & 0.7520 & 0.6640 & 0.7570 & 0.5858 & 0.5846\\\\\n\t 0.5 & 1 & 0.9 & 0.8256 & 0.8226 & 0.7300 & 0.8264 & 0.9960 & 0.9962 & 0.8260 & 0.9742 & 0.8282 & 0.9840 & 0.9920 & 0.9882\\\\\n\t 0.5 & 2 & 0.1 & 0.4308 & 0.3480 & 0.2374 & 0.3582 & 0.4196 & 0.3446 & 0.4194 & 0.3668 & 0.3526 & 0.3614 & 0.2114 & 0.2106\\\\\n\t 0.5 & 2 & 0.3 & 0.4500 & 0.3646 & 0.2492 & 0.3754 & 0.4354 & 0.3696 & 0.4338 & 0.3858 & 0.3632 & 0.3830 & 0.2344 & 0.2350\\\\\n\t 0.5 & 2 & 0.5 & 0.4782 & 0.3782 & 0.2594 & 0.3880 & 0.4628 & 0.4126 & 0.4486 & 0.4184 & 0.3818 & 0.4164 & 0.2710 & 0.2778\\\\\n\t 0.5 & 2 & 0.9 & 0.5456 & 0.4128 & 0.2958 & 0.4236 & 0.5936 & 0.7076 & 0.4698 & 0.5408 & 0.4400 & 0.5538 & 0.4570 & 0.4530\\\\\n\t 0.5 & 4 & 0.1 & 0.2492 & 0.1596 & 0.0996 & 0.1652 & 0.2318 & 0.1674 & 0.2354 & 0.2006 & 0.2096 & 0.1950 & 0.1206 & 0.1238\\\\\n\t 0.5 & 4 & 0.3 & 0.2650 & 0.1600 & 0.1010 & 0.1684 & 0.2368 & 0.1734 & 0.2386 & 0.2062 & 0.2166 & 0.2004 & 0.1264 & 0.1282\\\\\n\t 0.5 & 4 & 0.5 & 0.2818 & 0.1632 & 0.1022 & 0.1720 & 0.2408 & 0.1806 & 0.2420 & 0.2142 & 0.2202 & 0.2086 & 0.1308 & 0.1354\\\\\n\t 0.5 & 4 & 0.9 & 0.3172 & 0.1728 & 0.1068 & 0.1804 & 0.2556 & 0.2488 & 0.2436 & 0.2256 & 0.2234 & 0.2216 & 0.1476 & 0.1528\\\\\n\t 1.0 & 1 & 0.1 & 0.9958 & 0.9958 & 0.9868 & 0.9958 & 0.9954 & 0.9936 & 0.9956 & 0.9916 & 0.9808 & 0.9914 & 0.8654 & 0.8614\\\\\n\t 1.0 & 1 & 0.3 & 0.9974 & 0.9980 & 0.9936 & 0.9980 & 0.9974 & 0.9972 & 0.9974 & 0.9956 & 0.9858 & 0.9952 & 0.9278 & 0.9224\\\\\n\t 1.0 & 1 & 0.5 & 0.9986 & 0.9988 & 0.9960 & 0.9988 & 0.9992 & 0.9990 & 0.9986 & 0.9978 & 0.9896 & 0.9984 & 0.9750 & 0.9722\\\\\n\t 1.0 & 1 & 0.9 & 0.9994 & 0.9994 & 0.9984 & 0.9994 & 1.0000 & 1.0000 & 0.9994 & 1.0000 & 0.9948 & 1.0000 & 1.0000 & 1.0000\\\\\n\t 1.0 & 2 & 0.1 & 0.8622 & 0.8068 & 0.7032 & 0.8128 & 0.8496 & 0.7924 & 0.8562 & 0.7998 & 0.7566 & 0.7992 & 0.5170 & 0.5182\\\\\n\t 1.0 & 2 & 0.3 & 0.8814 & 0.8244 & 0.7280 & 0.8322 & 0.8724 & 0.8250 & 0.8714 & 0.8286 & 0.7750 & 0.8260 & 0.5884 & 0.5900\\\\\n\t 1.0 & 2 & 0.5 & 0.8988 & 0.8458 & 0.7518 & 0.8526 & 0.8982 & 0.8682 & 0.8854 & 0.8630 & 0.7962 & 0.8646 & 0.6778 & 0.6756\\\\\n\t 1.0 & 2 & 0.9 & 0.9364 & 0.8886 & 0.8134 & 0.8938 & 0.9728 & 0.9966 & 0.9120 & 0.9494 & 0.8562 & 0.9566 & 0.9260 & 0.9198\\\\\n\t 1.0 & 4 & 0.1 & 0.4868 & 0.3688 & 0.2500 & 0.3806 & 0.4684 & 0.3734 & 0.4710 & 0.4078 & 0.3956 & 0.4032 & 0.2338 & 0.2338\\\\\n\t 1.0 & 4 & 0.3 & 0.5092 & 0.3768 & 0.2572 & 0.3896 & 0.4774 & 0.3868 & 0.4792 & 0.4202 & 0.4012 & 0.4164 & 0.2480 & 0.2478\\\\\n\t 1.0 & 4 & 0.5 & 0.5344 & 0.3854 & 0.2652 & 0.3970 & 0.4920 & 0.4168 & 0.4852 & 0.4342 & 0.4084 & 0.4290 & 0.2640 & 0.2656\\\\\n\t 1.0 & 4 & 0.9 & 0.5970 & 0.4012 & 0.2844 & 0.4164 & 0.5214 & 0.6040 & 0.5002 & 0.4728 & 0.4250 & 0.4706 & 0.3126 & 0.3160\\\\\n\\end{tabular}\n",
            "text/plain": [
              "   Delta Gamma Rho  Tnew1   Tnew2   T_Partover   T_adj   Zb     Z1s    Tb   \n",
              "1  0.0   1     0.1 0.0474  0.0486  0.0516       0.0504  0.0496 0.0500 0.0462\n",
              "2  0.0   1     0.3 0.0470  0.0482  0.0498       0.0490  0.0504 0.0520 0.0470\n",
              "3  0.0   1     0.5 0.0492  0.0506  0.0478       0.0528  0.0518 0.0544 0.0484\n",
              "4  0.0   1     0.9 0.0500  0.0500  0.0496       0.0518  0.0540 0.0624 0.0494\n",
              "5  0.0   2     0.1 0.0768  0.0504  0.0560       0.0526  0.0728 0.0552 0.0712\n",
              "6  0.0   2     0.3 0.0774  0.0508  0.0566       0.0536  0.0748 0.0576 0.0708\n",
              "7  0.0   2     0.5 0.0798  0.0512  0.0552       0.0534  0.0746 0.0594 0.0686\n",
              "8  0.0   2     0.9 0.0916  0.0526  0.0556       0.0564  0.0726 0.0540 0.0666\n",
              "9  0.0   4     0.1 0.0908  0.0532  0.0528       0.0556  0.0816 0.0596 0.0852\n",
              "10 0.0   4     0.3 0.0970  0.0520  0.0528       0.0556  0.0822 0.0594 0.0862\n",
              "11 0.0   4     0.5 0.1030  0.0522  0.0532       0.0542  0.0830 0.0568 0.0844\n",
              "12 0.0   4     0.9 0.1182  0.0522  0.0536       0.0562  0.0818 0.0526 0.0790\n",
              "13 0.5   1     0.1 0.6824  0.6802  0.5672       0.6870  0.6798 0.6646 0.6840\n",
              "14 0.5   1     0.3 0.7136  0.7108  0.5988       0.7166  0.7168 0.7074 0.7146\n",
              "15 0.5   1     0.5 0.7460  0.7432  0.6412       0.7504  0.7822 0.7766 0.7480\n",
              "16 0.5   1     0.9 0.8256  0.8226  0.7300       0.8264  0.9960 0.9962 0.8260\n",
              "17 0.5   2     0.1 0.4308  0.3480  0.2374       0.3582  0.4196 0.3446 0.4194\n",
              "18 0.5   2     0.3 0.4500  0.3646  0.2492       0.3754  0.4354 0.3696 0.4338\n",
              "19 0.5   2     0.5 0.4782  0.3782  0.2594       0.3880  0.4628 0.4126 0.4486\n",
              "20 0.5   2     0.9 0.5456  0.4128  0.2958       0.4236  0.5936 0.7076 0.4698\n",
              "21 0.5   4     0.1 0.2492  0.1596  0.0996       0.1652  0.2318 0.1674 0.2354\n",
              "22 0.5   4     0.3 0.2650  0.1600  0.1010       0.1684  0.2368 0.1734 0.2386\n",
              "23 0.5   4     0.5 0.2818  0.1632  0.1022       0.1720  0.2408 0.1806 0.2420\n",
              "24 0.5   4     0.9 0.3172  0.1728  0.1068       0.1804  0.2556 0.2488 0.2436\n",
              "25 1.0   1     0.1 0.9958  0.9958  0.9868       0.9958  0.9954 0.9936 0.9956\n",
              "26 1.0   1     0.3 0.9974  0.9980  0.9936       0.9980  0.9974 0.9972 0.9974\n",
              "27 1.0   1     0.5 0.9986  0.9988  0.9960       0.9988  0.9992 0.9990 0.9986\n",
              "28 1.0   1     0.9 0.9994  0.9994  0.9984       0.9994  1.0000 1.0000 0.9994\n",
              "29 1.0   2     0.1 0.8622  0.8068  0.7032       0.8128  0.8496 0.7924 0.8562\n",
              "30 1.0   2     0.3 0.8814  0.8244  0.7280       0.8322  0.8724 0.8250 0.8714\n",
              "31 1.0   2     0.5 0.8988  0.8458  0.7518       0.8526  0.8982 0.8682 0.8854\n",
              "32 1.0   2     0.9 0.9364  0.8886  0.8134       0.8938  0.9728 0.9966 0.9120\n",
              "33 1.0   4     0.1 0.4868  0.3688  0.2500       0.3806  0.4684 0.3734 0.4710\n",
              "34 1.0   4     0.3 0.5092  0.3768  0.2572       0.3896  0.4774 0.3868 0.4792\n",
              "35 1.0   4     0.5 0.5344  0.3854  0.2652       0.3970  0.4920 0.4168 0.4852\n",
              "36 1.0   4     0.9 0.5970  0.4012  0.2844       0.4164  0.5214 0.6040 0.5002\n",
              "    M      R      Rw     T test   S    \n",
              "1  0.0490 0.0474 0.0482 0.0528   0.0540\n",
              "2  0.0494 0.0478 0.0496 0.0528   0.0540\n",
              "3  0.0502 0.0470 0.0482 0.0528   0.0540\n",
              "4  0.0488 0.0502 0.0510 0.0528   0.0540\n",
              "5  0.0666 0.0722 0.0632 0.0490   0.0536\n",
              "6  0.0650 0.0708 0.0628 0.0474   0.0534\n",
              "7  0.0642 0.0704 0.0622 0.0484   0.0542\n",
              "8  0.0652 0.0714 0.0632 0.0492   0.0558\n",
              "9  0.0758 0.0908 0.0722 0.0488   0.0520\n",
              "10 0.0766 0.0902 0.0714 0.0486   0.0520\n",
              "11 0.0758 0.0918 0.0708 0.0486   0.0520\n",
              "12 0.0780 0.0896 0.0728 0.0508   0.0548\n",
              "13 0.6546 0.6026 0.6500 0.4042   0.4112\n",
              "14 0.6962 0.6264 0.6924 0.4782   0.4778\n",
              "15 0.7520 0.6640 0.7570 0.5858   0.5846\n",
              "16 0.9742 0.8282 0.9840 0.9920   0.9882\n",
              "17 0.3668 0.3526 0.3614 0.2114   0.2106\n",
              "18 0.3858 0.3632 0.3830 0.2344   0.2350\n",
              "19 0.4184 0.3818 0.4164 0.2710   0.2778\n",
              "20 0.5408 0.4400 0.5538 0.4570   0.4530\n",
              "21 0.2006 0.2096 0.1950 0.1206   0.1238\n",
              "22 0.2062 0.2166 0.2004 0.1264   0.1282\n",
              "23 0.2142 0.2202 0.2086 0.1308   0.1354\n",
              "24 0.2256 0.2234 0.2216 0.1476   0.1528\n",
              "25 0.9916 0.9808 0.9914 0.8654   0.8614\n",
              "26 0.9956 0.9858 0.9952 0.9278   0.9224\n",
              "27 0.9978 0.9896 0.9984 0.9750   0.9722\n",
              "28 1.0000 0.9948 1.0000 1.0000   1.0000\n",
              "29 0.7998 0.7566 0.7992 0.5170   0.5182\n",
              "30 0.8286 0.7750 0.8260 0.5884   0.5900\n",
              "31 0.8630 0.7962 0.8646 0.6778   0.6756\n",
              "32 0.9494 0.8562 0.9566 0.9260   0.9198\n",
              "33 0.4078 0.3956 0.4032 0.2338   0.2338\n",
              "34 0.4202 0.4012 0.4164 0.2480   0.2478\n",
              "35 0.4342 0.4084 0.4290 0.2640   0.2656\n",
              "36 0.4728 0.4250 0.4706 0.3126   0.3160"
            ]
          },
          "metadata": {}
        }
      ]
    },
    {
      "cell_type": "markdown",
      "metadata": {
        "id": "NOJNFUnt0p_L"
      },
      "source": [
        "**Run a list of sample size cases and save to xlsx file**"
      ]
    },
    {
      "cell_type": "code",
      "execution_count": null,
      "metadata": {
        "id": "mKyKlR8EBJaa"
      },
      "outputs": [],
      "source": [
        "#Name the exporting file\n",
        "path <- 'file_name.xlsx'\n",
        "\n",
        "#Initialize cases list\n",
        "selected_cases = list(c() ) #format: list(c(1,1,1), c(2,2,2), ... )\n",
        "\n",
        "#Create workbook\n",
        "wb <- createWorkbook()\n",
        "\n",
        "for(set in selected_cases){\n",
        "  set <- unlist(set)\n",
        "  nc<- set[1]\n",
        "  nux<- set[2]\n",
        "  nuy<- set[3]\n",
        "\n",
        "  name <-  paste(as.character(nc),as.character(nux),as.character(nuy))\n",
        "\n",
        "  addWorksheet(wb, name)\n",
        "  results <- execute_improvement(nc,nux,nuy, delta_levels, gamma_levels,cor_levels)\n",
        "  writeData(wb, name, results)\n",
        "}\n",
        "\n",
        "#Result will be saved as a workbook with path name\n",
        "saveWorkbook(wb, path)"
      ]
    }
  ],
  "metadata": {
    "accelerator": "GPU",
    "colab": {
      "collapsed_sections": [
        "D_9loeg7HQmj",
        "GpgAZ5v5OQ4_",
        "DbYjOXzPR8SI"
      ],
      "provenance": []
    },
    "kernelspec": {
      "display_name": "R",
      "name": "ir"
    },
    "language_info": {
      "name": "R"
    }
  },
  "nbformat": 4,
  "nbformat_minor": 0
}